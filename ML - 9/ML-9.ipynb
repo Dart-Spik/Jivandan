{
 "cells": [
  {
   "cell_type": "code",
   "execution_count": null,
   "id": "9e06bb54-3cc3-4807-9e85-064310cdf87e",
   "metadata": {
    "tags": []
   },
   "outputs": [],
   "source": [
    "import warnings\n",
    "warnings.filterwarnings ('ignore')\n",
    "import numpy as np\n",
    "import pandas as pd\n",
    "import seaborn as sns\n",
    "import matplotlib.pyplot as plt\n",
    "from sklearn import metrics\n",
    "from sklearn.model_selection import train_test_split\n",
    "from sklearn.preprocessing import StandardScaler\n",
    "from sklearn.neighbors import KNeighborsClassifier\n",
    "from sklearn.metrics import confusion_matrix, accuracy_score, precision_score,recall_score"
   ]
  },
  {
   "cell_type": "code",
   "execution_count": null,
   "id": "6f7b7dc9-3453-428c-a9a1-c1648648cda9",
   "metadata": {
    "tags": []
   },
   "outputs": [],
   "source": [
    "df = pd.read_csv(\"diabetes.csv\")\n",
    "df"
   ]
  },
  {
   "cell_type": "code",
   "execution_count": null,
   "id": "ccedb811-38c5-40da-9e4a-33af738536aa",
   "metadata": {
    "tags": []
   },
   "outputs": [],
   "source": [
    "df.info()"
   ]
  },
  {
   "cell_type": "code",
   "execution_count": null,
   "id": "3e9dd132-9ae5-457d-9b8a-1f5ccfd2138d",
   "metadata": {
    "tags": []
   },
   "outputs": [],
   "source": [
    "df.head()"
   ]
  },
  {
   "cell_type": "code",
   "execution_count": null,
   "id": "cc4a6ca1-ed48-479d-8495-f10beb6241fd",
   "metadata": {
    "tags": []
   },
   "outputs": [],
   "source": [
    "df.tail()"
   ]
  },
  {
   "cell_type": "code",
   "execution_count": null,
   "id": "9904f76c-0804-4449-a8b6-aad9b5ffa3f1",
   "metadata": {
    "tags": []
   },
   "outputs": [],
   "source": [
    "df.shape"
   ]
  },
  {
   "cell_type": "code",
   "execution_count": null,
   "id": "7ca4861b-7610-41a8-8c26-80b8e48c5a8f",
   "metadata": {
    "tags": []
   },
   "outputs": [],
   "source": [
    "df.describe()"
   ]
  },
  {
   "cell_type": "code",
   "execution_count": null,
   "id": "6bc84d76-6021-4c33-933a-20c86aacaaee",
   "metadata": {
    "tags": []
   },
   "outputs": [],
   "source": [
    "df.dtypes"
   ]
  },
  {
   "cell_type": "code",
   "execution_count": null,
   "id": "cd850b22-0656-48ea-87c9-e0bda81548b9",
   "metadata": {
    "tags": []
   },
   "outputs": [],
   "source": [
    "df.isnull().sum()"
   ]
  },
  {
   "cell_type": "code",
   "execution_count": null,
   "id": "f3321f23-1806-4fce-800c-b4eda525686f",
   "metadata": {
    "tags": []
   },
   "outputs": [],
   "source": [
    "df.columns"
   ]
  },
  {
   "cell_type": "code",
   "execution_count": null,
   "id": "f8ef82f5-6dcd-4ff8-a7fd-174068053c10",
   "metadata": {
    "tags": []
   },
   "outputs": [],
   "source": [
    "#Feature scaling\n",
    "x = df.drop(columns=['Outcome'])\n",
    "y = df['Outcome']"
   ]
  },
  {
   "cell_type": "code",
   "execution_count": null,
   "id": "d109f931-9db8-4562-8beb-6c8edf03bb04",
   "metadata": {
    "tags": []
   },
   "outputs": [],
   "source": [
    "scaler =  StandardScaler()\n",
    "x_scaled = scaler.fit_transform(x) \n",
    "x_train, x_test, y_train, y_test = train_test_split(x_scaled, y, test_size=0.2, random_state=42)"
   ]
  },
  {
   "cell_type": "code",
   "execution_count": null,
   "id": "b84e024d-376a-4415-a475-c0c2d5b2c3cf",
   "metadata": {
    "tags": []
   },
   "outputs": [],
   "source": [
    "#KNN classifier\n",
    "knn = KNeighborsClassifier(n_neighbors=7)\n",
    "knn.fit(x_train, y_train)\n",
    "y_pred = knn.predict(x_test)"
   ]
  },
  {
   "cell_type": "code",
   "execution_count": null,
   "id": "c93292dc-c8e9-4318-b0c2-fe752351b9c5",
   "metadata": {
    "tags": []
   },
   "outputs": [],
   "source": [
    "#Confusion matriz \n",
    "cm = confusion_matrix(y_test, y_pred) \n",
    "print(\"Confusion Matrix\")\n",
    "print(cm)"
   ]
  },
  {
   "cell_type": "code",
   "execution_count": null,
   "id": "6149a9fe-c8fd-4335-8dd7-0028a9e30020",
   "metadata": {
    "tags": []
   },
   "outputs": [],
   "source": [
    "#Accuracy\n",
    "accuracy = accuracy_score(y_test, y_pred) \n",
    "print (f\"Accuracy: {accuracy:.2f}\")"
   ]
  },
  {
   "cell_type": "code",
   "execution_count": null,
   "id": "f902cfb3-f626-481f-85e6-2bd8371cfd86",
   "metadata": {
    "tags": []
   },
   "outputs": [],
   "source": [
    "#Error rate\n",
    "error_rate = 1 - accuracy \n",
    "print (f\"Error Rate: {error_rate:.2f}\")"
   ]
  },
  {
   "cell_type": "code",
   "execution_count": null,
   "id": "446dddd1-14b2-49ed-a2e8-ec94dc982ede",
   "metadata": {
    "tags": []
   },
   "outputs": [],
   "source": [
    "#Precision\n",
    "precision =  precision_score(y_test, y_pred) \n",
    "print (f\"Precision: {precision:.2f}\")"
   ]
  },
  {
   "cell_type": "code",
   "execution_count": null,
   "id": "32b3ad67-8aac-410b-83a1-e3d872935862",
   "metadata": {
    "tags": []
   },
   "outputs": [],
   "source": [
    "#Recall\n",
    "recall =  recall_score(y_test, y_pred) \n",
    "print (f\"Recall: {recall:.2f}\")"
   ]
  },
  {
   "cell_type": "code",
   "execution_count": null,
   "id": "7b25f0eb-dfec-4a14-be76-108799464648",
   "metadata": {
    "tags": []
   },
   "outputs": [],
   "source": [
    "#Classification Report \n",
    "cr = metrics.classification_report(y_test,y_pred) \n",
    "print(\"Classification report: \\n\\n\",cr)"
   ]
  },
  {
   "cell_type": "code",
   "execution_count": null,
   "id": "134d66a4-ac26-4d56-889a-92d2243776e3",
   "metadata": {},
   "outputs": [],
   "source": []
  }
 ],
 "metadata": {
  "kernelspec": {
   "display_name": "Python 3 (ipykernel)",
   "language": "python",
   "name": "python3"
  },
  "language_info": {
   "codemirror_mode": {
    "name": "ipython",
    "version": 3
   },
   "file_extension": ".py",
   "mimetype": "text/x-python",
   "name": "python",
   "nbconvert_exporter": "python",
   "pygments_lexer": "ipython3",
   "version": "3.11.5"
  }
 },
 "nbformat": 4,
 "nbformat_minor": 5
}
