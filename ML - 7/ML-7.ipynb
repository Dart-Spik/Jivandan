{
 "cells": [
  {
   "cell_type": "code",
   "execution_count": null,
   "id": "13abfbd4-6e29-4168-852c-c1a08bfe3daa",
   "metadata": {
    "tags": []
   },
   "outputs": [],
   "source": [
    "pip install numpy scipy"
   ]
  },
  {
   "cell_type": "code",
   "execution_count": null,
   "id": "02d73cb7-0d25-47cc-857e-e4dca3a8adba",
   "metadata": {
    "tags": []
   },
   "outputs": [],
   "source": [
    "pip install --upgrade scikit-learn"
   ]
  },
  {
   "cell_type": "code",
   "execution_count": null,
   "id": "da33c4fa-1d42-4993-b5e5-6c378a59b318",
   "metadata": {
    "tags": []
   },
   "outputs": [],
   "source": [
    "import warnings\n",
    "warnings.filterwarnings('ignore')\n",
    "import numpy as np\n",
    "import pandas as pd\n",
    "import seaborn as sns\n",
    "import matplotlib.pyplot as plt\n",
    "from sklearn.metrics import accuracy_score\n",
    "from sklearn.metrics import precision_score, recall_score, f1_score,roc_auc_score\n",
    "from sklearn.metrics import confusion_matrix"
   ]
  },
  {
   "cell_type": "code",
   "execution_count": null,
   "id": "10d6d342-7de7-46c4-a15c-ed0ff9f37f65",
   "metadata": {
    "tags": []
   },
   "outputs": [],
   "source": [
    "data = pd.read_csv(\"emails.csv\")\n",
    "data"
   ]
  },
  {
   "cell_type": "code",
   "execution_count": null,
   "id": "34b47e97-8b3a-4a11-b79d-29b17d3db084",
   "metadata": {
    "tags": []
   },
   "outputs": [],
   "source": [
    "data.info()"
   ]
  },
  {
   "cell_type": "code",
   "execution_count": null,
   "id": "1ba5f00c-86e4-44ff-9674-e33eaba239ee",
   "metadata": {
    "tags": []
   },
   "outputs": [],
   "source": [
    "data.head()"
   ]
  },
  {
   "cell_type": "code",
   "execution_count": null,
   "id": "7318fb8f-d57a-47f5-b1f4-42459945bae8",
   "metadata": {
    "tags": []
   },
   "outputs": [],
   "source": [
    "data.tail()"
   ]
  },
  {
   "cell_type": "code",
   "execution_count": null,
   "id": "826f8aff-4fb8-43c5-84bc-75d92f599503",
   "metadata": {
    "tags": []
   },
   "outputs": [],
   "source": [
    "data.shape"
   ]
  },
  {
   "cell_type": "code",
   "execution_count": null,
   "id": "1b5d72e3-f5e1-446d-8b22-4235a54e4921",
   "metadata": {
    "tags": []
   },
   "outputs": [],
   "source": [
    "data.describe()"
   ]
  },
  {
   "cell_type": "code",
   "execution_count": null,
   "id": "f5a5ae10-00d3-4c53-99e5-a0bee16b1852",
   "metadata": {
    "tags": []
   },
   "outputs": [],
   "source": [
    "data.dtypes"
   ]
  },
  {
   "cell_type": "code",
   "execution_count": null,
   "id": "27cb2b01-2c47-4520-a042-5c34444b5881",
   "metadata": {
    "tags": []
   },
   "outputs": [],
   "source": [
    "data.isnull().sum()"
   ]
  },
  {
   "cell_type": "code",
   "execution_count": null,
   "id": "49b97f2c-9d5c-40ab-8894-b3f26f014ba2",
   "metadata": {
    "tags": []
   },
   "outputs": [],
   "source": [
    "#For null column\n",
    "null_counts = data.isnull().sum()\n",
    "columns_with_nulls = null_counts[null_counts >= 1]\n",
    "columns_with_nulls"
   ]
  },
  {
   "cell_type": "code",
   "execution_count": null,
   "id": "6a5420f3-f710-47d8-bf7d-5fd7f960319c",
   "metadata": {
    "tags": []
   },
   "outputs": [],
   "source": [
    "# Remove Email no. column\n",
    "x = data.iloc[:,1:3001]\n",
    "x.head()"
   ]
  },
  {
   "cell_type": "code",
   "execution_count": null,
   "id": "901cc147-a835-43de-8b77-5b5e897a6fd7",
   "metadata": {
    "tags": []
   },
   "outputs": [],
   "source": [
    "# Output Class\n",
    "y = data.iloc[:,-1]\n",
    "y.head()"
   ]
  },
  {
   "cell_type": "code",
   "execution_count": null,
   "id": "976e60b9-b3ad-4d66-af40-2c8e845e0dd0",
   "metadata": {
    "tags": []
   },
   "outputs": [],
   "source": [
    "from sklearn.model_selection import train_test_split\n",
    "x_train, x_test, y_train,y_test = train_test_split(x, y, test_size=.2,random_state=12)\n",
    "x_test"
   ]
  },
  {
   "cell_type": "code",
   "execution_count": null,
   "id": "177220da-fa2a-44b9-b7af-5aa7d64e4934",
   "metadata": {
    "tags": []
   },
   "outputs": [],
   "source": [
    "from sklearn.preprocessing import StandardScaler\n",
    "sc = StandardScaler()\n",
    "x_train = sc.fit_transform(x_train)\n",
    "x_test = sc.fit_transform(x_test)"
   ]
  },
  {
   "cell_type": "code",
   "execution_count": null,
   "id": "f7403f75-30ad-4393-a382-cb215e9e3c6c",
   "metadata": {
    "tags": []
   },
   "outputs": [],
   "source": [
    "#K-NN classifier\n",
    "from sklearn.neighbors import KNeighborsClassifier\n",
    "knn = KNeighborsClassifier(n_neighbors=5, metric='minkowski', p=2 )\n",
    "knn.fit(x_train,y_train)"
   ]
  },
  {
   "cell_type": "code",
   "execution_count": null,
   "id": "678569da-a3d7-44f5-9ba9-2cef693f87ab",
   "metadata": {
    "tags": []
   },
   "outputs": [],
   "source": [
    "y_pred_knn = knn.predict(x_test)\n",
    "y_pred_knn"
   ]
  },
  {
   "cell_type": "code",
   "execution_count": null,
   "id": "26842f82-47ed-492f-9246-dfda67661087",
   "metadata": {
    "tags": []
   },
   "outputs": [],
   "source": [
    "cm = confusion_matrix(y_test, y_pred_knn)\n",
    "cm"
   ]
  },
  {
   "cell_type": "code",
   "execution_count": null,
   "id": "9f491dec-4a87-4108-959b-02158d919af2",
   "metadata": {
    "tags": []
   },
   "outputs": [],
   "source": [
    "#Confusion matrix\n",
    "sns.heatmap(cm, annot=True, fmt='.2f', cmap='Reds')\n",
    "plt.xlabel('Predicted')\n",
    "plt.ylabel('True')\n",
    "plt.title('Confusion Matrix')\n",
    "plt.show()"
   ]
  },
  {
   "cell_type": "code",
   "execution_count": null,
   "id": "a4cbab1f-5735-4ab4-b111-391546f9af03",
   "metadata": {
    "tags": []
   },
   "outputs": [],
   "source": [
    "#Accuracy Score\n",
    "accuracy_score(y_test, y_pred_knn)"
   ]
  },
  {
   "cell_type": "code",
   "execution_count": null,
   "id": "6175b6d3-daf0-4192-ae31-f692adccd7c2",
   "metadata": {
    "tags": []
   },
   "outputs": [],
   "source": [
    "#Support Vector Machine\n",
    "from sklearn.svm import SVC\n",
    "svc = SVC(kernel='linear', random_state=0)\n",
    "svc.fit(x_train, y_train)"
   ]
  },
  {
   "cell_type": "code",
   "execution_count": null,
   "id": "de7cc35e-57bf-4e46-913e-1ba13623ac82",
   "metadata": {
    "tags": []
   },
   "outputs": [],
   "source": [
    "y_pred_svc = svc.predict(x_test)\n",
    "y_pred_svc"
   ]
  },
  {
   "cell_type": "code",
   "execution_count": null,
   "id": "eda9d3d0-1ed5-44ef-bbf3-b4618b8a5cb9",
   "metadata": {
    "tags": []
   },
   "outputs": [],
   "source": [
    "cm = confusion_matrix(y_test, y_pred_svc)\n",
    "cm"
   ]
  },
  {
   "cell_type": "code",
   "execution_count": null,
   "id": "937b01af-a0a6-44fc-9306-e68d286430a8",
   "metadata": {
    "tags": []
   },
   "outputs": [],
   "source": [
    "# Confusion matrix\n",
    "sns.heatmap(cm, annot=True, fmt='.2f', cmap='Reds')\n",
    "plt.xlabel('Predicted')\n",
    "plt.ylabel('True')\n",
    "plt.title('Confusion Matrix')\n",
    "plt.show()"
   ]
  },
  {
   "cell_type": "code",
   "execution_count": null,
   "id": "02cd7a7a-264c-450e-8979-2a80d05e3461",
   "metadata": {},
   "outputs": [],
   "source": []
  }
 ],
 "metadata": {
  "kernelspec": {
   "display_name": "Python 3 (ipykernel)",
   "language": "python",
   "name": "python3"
  },
  "language_info": {
   "codemirror_mode": {
    "name": "ipython",
    "version": 3
   },
   "file_extension": ".py",
   "mimetype": "text/x-python",
   "name": "python",
   "nbconvert_exporter": "python",
   "pygments_lexer": "ipython3",
   "version": "3.11.5"
  }
 },
 "nbformat": 4,
 "nbformat_minor": 5
}
