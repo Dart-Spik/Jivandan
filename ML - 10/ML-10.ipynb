{
 "cells": [
  {
   "cell_type": "code",
   "execution_count": null,
   "id": "93d725e1-a19f-4f3f-935c-13a22d42b341",
   "metadata": {
    "tags": []
   },
   "outputs": [],
   "source": [
    "pip install numpy scipy"
   ]
  },
  {
   "cell_type": "code",
   "execution_count": null,
   "id": "526f630f-65a2-4cb5-a0a9-89a458ee47da",
   "metadata": {
    "tags": []
   },
   "outputs": [],
   "source": [
    "pip install --upgrade scikit-learn"
   ]
  },
  {
   "cell_type": "code",
   "execution_count": null,
   "id": "d3104b26-0f51-488e-b8c8-3a48838a3af8",
   "metadata": {
    "tags": []
   },
   "outputs": [],
   "source": [
    "python.exe -m pip install --upgrade pip"
   ]
  },
  {
   "cell_type": "code",
   "execution_count": null,
   "id": "c408eabe-c56a-4e23-914f-01ba46ca2f64",
   "metadata": {
    "tags": []
   },
   "outputs": [],
   "source": [
    "import warnings\n",
    "warnings.filterwarnings('ignore')\n",
    "import pandas as pd\n",
    "import numpy as np\n",
    "import matplotlib.pyplot as plt\n",
    "import seaborn as sns\n",
    "from sklearn.cluster import KMeans\n",
    "from sklearn.preprocessing import StandardScaler\n",
    "from sklearn.decomposition import PCA\n",
    "from scipy.cluster.hierarchy import dendrogram, linkage\n",
    "from sklearn.cluster import AgglomerativeClustering"
   ]
  },
  {
   "cell_type": "code",
   "execution_count": null,
   "id": "392c2b6a-e738-48a8-a25d-d29a9ff4765d",
   "metadata": {
    "tags": []
   },
   "outputs": [],
   "source": [
    "# Load the dataset\n",
    "file_path = \"sales_data_sample.csv\"\n",
    "sales_data = pd.read_csv(file_path, encoding='Latin-1')\n",
    "sales_data"
   ]
  },
  {
   "cell_type": "code",
   "execution_count": null,
   "id": "51c98e3a-2c06-48c8-a052-6cf1794e22c4",
   "metadata": {
    "tags": []
   },
   "outputs": [],
   "source": [
    "sales_data.info()"
   ]
  },
  {
   "cell_type": "code",
   "execution_count": null,
   "id": "a5c6b2c6-1e28-4aa9-9247-ad501c231b2f",
   "metadata": {
    "tags": []
   },
   "outputs": [],
   "source": [
    "sales_data.head()"
   ]
  },
  {
   "cell_type": "code",
   "execution_count": null,
   "id": "5cb57346-fd2a-474c-be31-ad1c68519252",
   "metadata": {
    "tags": []
   },
   "outputs": [],
   "source": [
    "sales_data.tail()"
   ]
  },
  {
   "cell_type": "code",
   "execution_count": null,
   "id": "4064dae9-d2c7-4cad-bdf9-2fd103308ca9",
   "metadata": {
    "tags": []
   },
   "outputs": [],
   "source": [
    "sales_data.shape"
   ]
  },
  {
   "cell_type": "code",
   "execution_count": null,
   "id": "e25004f3-5522-4e34-b3af-c51c6ff58d04",
   "metadata": {
    "tags": []
   },
   "outputs": [],
   "source": [
    "sales_data.describe()"
   ]
  },
  {
   "cell_type": "code",
   "execution_count": null,
   "id": "3280beaf-6fb0-434a-989d-feb66c26e70a",
   "metadata": {
    "tags": []
   },
   "outputs": [],
   "source": [
    "sales_data.dtypes"
   ]
  },
  {
   "cell_type": "code",
   "execution_count": null,
   "id": "adb269d8-4903-4cf5-a4e9-71cc72d6a63b",
   "metadata": {
    "tags": []
   },
   "outputs": [],
   "source": [
    "sales_data.isnull().sum()"
   ]
  },
  {
   "cell_type": "code",
   "execution_count": null,
   "id": "144e32eb-4b69-4d13-8099-9cfe3d48e6f5",
   "metadata": {
    "tags": []
   },
   "outputs": [],
   "source": [
    "# Select numeric columns for clustering\n",
    "numeric_data = sales_data.select_dtypes(include=[np.number])"
   ]
  },
  {
   "cell_type": "code",
   "execution_count": null,
   "id": "3a9bedef-e75f-4de9-93e2-a0731a37df60",
   "metadata": {
    "tags": []
   },
   "outputs": [],
   "source": [
    "# Handle missing values if any\n",
    "numeric_data = numeric_data.dropna()"
   ]
  },
  {
   "cell_type": "code",
   "execution_count": null,
   "id": "b78e4fb4-e35b-4af3-8fec-31f16ad3dcc5",
   "metadata": {
    "tags": []
   },
   "outputs": [],
   "source": [
    "# Standardize the data\n",
    "scaler = StandardScaler()\n",
    "scaled_data = scaler.fit_transform(numeric_data)"
   ]
  },
  {
   "cell_type": "code",
   "execution_count": null,
   "id": "220e2740-4c5b-4bb0-9eb0-ccf6e383049c",
   "metadata": {
    "tags": []
   },
   "outputs": [],
   "source": [
    "# Determine the optimal number of clusters using the elbow method\n",
    "sse = []\n",
    "k_range = range(1, 11)\n",
    "for k in k_range:\n",
    "    kmeans = KMeans(n_clusters=k, random_state=42)\n",
    "    kmeans.fit(scaled_data)\n",
    "    sse.append(kmeans.inertia_)\n",
    "    \n",
    "# Plot the elbow graph\n",
    "plt.figure(figsize=(10, 6))\n",
    "plt.plot(k_range, sse, marker='o')\n",
    "plt.title('Elbow Method')\n",
    "plt.xlabel('Number of Clusters')\n",
    "plt.ylabel('Sum of Squared Errors (SSE)')\n",
    "plt.show()"
   ]
  },
  {
   "cell_type": "code",
   "execution_count": null,
   "id": "de05eb72-1f97-41cf-b10b-ece4d115eef6",
   "metadata": {
    "tags": []
   },
   "outputs": [],
   "source": [
    "# Suppose the optimal number of clusters from the elbow method is 3\n",
    "optimal_clusters = 3"
   ]
  },
  {
   "cell_type": "code",
   "execution_count": null,
   "id": "6d345940-dbed-4ab6-9993-c1636dd8b523",
   "metadata": {
    "tags": []
   },
   "outputs": [],
   "source": [
    "# Apply K-Means clustering\n",
    "kmeans = KMeans(n_clusters=optimal_clusters, random_state=42)\n",
    "kmeans.fit(scaled_data)\n",
    "sales_data['Cluster'] = kmeans.labels_"
   ]
  },
  {
   "cell_type": "code",
   "execution_count": null,
   "id": "255bf39e-f00d-433b-b774-3436543037da",
   "metadata": {
    "tags": []
   },
   "outputs": [],
   "source": [
    "# Visualize the clusters using PCA for dimensionality reduction\n",
    "pca = PCA(n_components=2)\n",
    "pca_data = pca.fit_transform(scaled_data)\n",
    "plt.figure(figsize=(10, 6))\n",
    "sns.scatterplot(x=pca_data[:, 0], y=pca_data[:, 1], hue=sales_data['Cluster'],palette='viridis')\n",
    "plt.title('Clusters Visualization')\n",
    "plt.show()"
   ]
  },
  {
   "cell_type": "code",
   "execution_count": null,
   "id": "5be50810-4fd2-49e2-b38b-b4cf82cc4221",
   "metadata": {
    "tags": []
   },
   "outputs": [],
   "source": [
    "# Group by 'Cluster' and calculate the mean for only numeric columns\n",
    "numeric_columns = sales_data.select_dtypes(include=[np.number]).columns\n",
    "cluster_analysis = sales_data.groupby('Cluster')[numeric_columns].mean()\n",
    "print(\"Cluster Analysis:\\n\", cluster_analysis)"
   ]
  },
  {
   "cell_type": "code",
   "execution_count": null,
   "id": "11cbecca-e269-4713-a623-a648c26137e3",
   "metadata": {},
   "outputs": [],
   "source": []
  },
  {
   "cell_type": "code",
   "execution_count": null,
   "id": "ba6c6523-de79-4c19-b371-ac549bcf7587",
   "metadata": {},
   "outputs": [],
   "source": []
  },
  {
   "cell_type": "code",
   "execution_count": null,
   "id": "6e7b5e74-2996-4bae-9afd-98a69372da25",
   "metadata": {},
   "outputs": [],
   "source": []
  }
 ],
 "metadata": {
  "kernelspec": {
   "display_name": "Python 3 (ipykernel)",
   "language": "python",
   "name": "python3"
  },
  "language_info": {
   "codemirror_mode": {
    "name": "ipython",
    "version": 3
   },
   "file_extension": ".py",
   "mimetype": "text/x-python",
   "name": "python",
   "nbconvert_exporter": "python",
   "pygments_lexer": "ipython3",
   "version": "3.11.5"
  }
 },
 "nbformat": 4,
 "nbformat_minor": 5
}
