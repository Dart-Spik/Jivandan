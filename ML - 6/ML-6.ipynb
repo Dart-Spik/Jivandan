{
 "cells": [
  {
   "cell_type": "code",
   "execution_count": null,
   "id": "05690567-bd0f-4bbc-9f79-acfc40facd28",
   "metadata": {
    "tags": []
   },
   "outputs": [],
   "source": [
    "import warnings\n",
    "warnings.filterwarnings('ignore')\n",
    "import numpy as np\n",
    "import pandas as pd\n",
    "import seaborn as sns\n",
    "import matplotlib.pyplot as plt\n",
    "from sklearn.preprocessing import StandardScaler\n",
    "from sklearn.model_selection import train_test_split\n",
    "from sklearn.linear_model import LinearRegression\n",
    "from sklearn.ensemble import RandomForestRegressor\n",
    "from sklearn.metrics import mean_squared_error, r2_score"
   ]
  },
  {
   "cell_type": "code",
   "execution_count": null,
   "id": "0d77acd2-2240-4f13-9dd6-fe349f57d93e",
   "metadata": {
    "tags": []
   },
   "outputs": [],
   "source": [
    "data = pd.read_csv(\"uber.csv\")\n",
    "data"
   ]
  },
  {
   "cell_type": "code",
   "execution_count": null,
   "id": "555a0012-4f21-4559-836f-2fc945c03342",
   "metadata": {
    "tags": []
   },
   "outputs": [],
   "source": [
    "data.info()"
   ]
  },
  {
   "cell_type": "code",
   "execution_count": null,
   "id": "d866dadc-5478-4ef7-9093-1e4a2f2f1218",
   "metadata": {
    "tags": []
   },
   "outputs": [],
   "source": [
    "data.head()"
   ]
  },
  {
   "cell_type": "code",
   "execution_count": null,
   "id": "2ae08fd5-e9bd-4f77-bc3d-1814f535252a",
   "metadata": {
    "tags": []
   },
   "outputs": [],
   "source": [
    "data.tail()"
   ]
  },
  {
   "cell_type": "code",
   "execution_count": null,
   "id": "6dcd914b-2923-458d-b46c-c09839cb9eb3",
   "metadata": {
    "tags": []
   },
   "outputs": [],
   "source": [
    "data.shape"
   ]
  },
  {
   "cell_type": "code",
   "execution_count": null,
   "id": "a0bf048a-7bcf-490d-bd7d-3a7fb8a1be06",
   "metadata": {
    "tags": []
   },
   "outputs": [],
   "source": [
    "data.describe()"
   ]
  },
  {
   "cell_type": "code",
   "execution_count": null,
   "id": "c5ad1b9c-1ebb-48ac-b2d2-79bbc88e0485",
   "metadata": {
    "tags": []
   },
   "outputs": [],
   "source": [
    "data.dtypes"
   ]
  },
  {
   "cell_type": "code",
   "execution_count": null,
   "id": "cb5cadaa-3e07-4328-ac81-f8a7ad8c4707",
   "metadata": {
    "tags": []
   },
   "outputs": [],
   "source": [
    "#Data Preprocessing\n",
    "data.isnull().sum()"
   ]
  },
  {
   "cell_type": "code",
   "execution_count": null,
   "id": "631a927d-45c1-4bfa-ab5f-5495926220cb",
   "metadata": {
    "tags": []
   },
   "outputs": [],
   "source": [
    "data.drop(columns='Unnamed: 0', inplace=True)"
   ]
  },
  {
   "cell_type": "code",
   "execution_count": null,
   "id": "908be561-dc61-4014-aa7d-a4c071ddf0d9",
   "metadata": {
    "tags": []
   },
   "outputs": [],
   "source": [
    "data = data.dropna()"
   ]
  },
  {
   "cell_type": "code",
   "execution_count": null,
   "id": "d8d8b5d9-9689-41c0-9aa5-411567a8ee66",
   "metadata": {
    "tags": []
   },
   "outputs": [],
   "source": [
    "data.isnull().sum()"
   ]
  },
  {
   "cell_type": "code",
   "execution_count": null,
   "id": "fca8b29a-e850-42c0-8811-a019e179b1b1",
   "metadata": {
    "tags": []
   },
   "outputs": [],
   "source": [
    "data.drop_duplicates(inplace=True)"
   ]
  },
  {
   "cell_type": "code",
   "execution_count": null,
   "id": "86559308-dfc0-4954-a29a-25261c760597",
   "metadata": {
    "tags": []
   },
   "outputs": [],
   "source": [
    "data = data[data['fare_amount']> 0]\n",
    "data[\"pickup_datetime\"] = data[\"pickup_datetime\"].apply(lambda x:[x[0:10] for x in x.split(' ')])\n",
    "data[\"pickup_datetime\"] = data[\"pickup_datetime\"].apply(lambda x:x[0])\n",
    "data[\"pickup_datetime\"] = pd.DatetimeIndex(data[\"pickup_datetime\"]).year"
   ]
  },
  {
   "cell_type": "code",
   "execution_count": null,
   "id": "37b0137e-8081-4b30-9332-af9367b19289",
   "metadata": {
    "tags": []
   },
   "outputs": [],
   "source": [
    "data.drop(columns=['key','pickup_datetime'],inplace=True)"
   ]
  },
  {
   "cell_type": "code",
   "execution_count": null,
   "id": "08f979ff-8760-4c5d-8495-c71f111ced70",
   "metadata": {
    "tags": []
   },
   "outputs": [],
   "source": [
    "data.head()"
   ]
  },
  {
   "cell_type": "code",
   "execution_count": null,
   "id": "23fbcaa7-680f-47d4-9985-7a61724d4ce2",
   "metadata": {
    "tags": []
   },
   "outputs": [],
   "source": [
    "#Correlationx\n",
    "x = data.drop(['fare_amount'], axis=1)\n",
    "y = data['fare_amount']\n",
    "x_train, x_test, y_train, y_test = train_test_split(x, y, test_size=0.25,random_state=0)"
   ]
  },
  {
   "cell_type": "code",
   "execution_count": null,
   "id": "d9e01b20-58ac-4127-80b6-5b0328ebe3c1",
   "metadata": {
    "tags": []
   },
   "outputs": [],
   "source": [
    "data.corr()"
   ]
  },
  {
   "cell_type": "code",
   "execution_count": null,
   "id": "62e93f0b-7694-46a6-878b-3608d2c66e83",
   "metadata": {
    "tags": []
   },
   "outputs": [],
   "source": [
    "#Outlier\n",
    "sns.boxplot(data['fare_amount'])"
   ]
  },
  {
   "cell_type": "code",
   "execution_count": null,
   "id": "a41f574b-9246-4234-a776-61156683f6e4",
   "metadata": {
    "tags": []
   },
   "outputs": [],
   "source": [
    "data.head()"
   ]
  },
  {
   "cell_type": "code",
   "execution_count": null,
   "id": "b971170e-1a25-4f9c-aca6-9804a947bf5a",
   "metadata": {
    "tags": []
   },
   "outputs": [],
   "source": [
    "Q1 = np.percentile(data['fare_amount'], 25, interpolation= 'midpoint')\n",
    "Q3 = np.percentile(data['fare_amount'], 25, interpolation= 'midpoint')\n",
    "print(Q1,Q3)"
   ]
  },
  {
   "cell_type": "code",
   "execution_count": null,
   "id": "1c029755-1124-4f0a-ba7a-a61052097495",
   "metadata": {
    "tags": []
   },
   "outputs": [],
   "source": [
    "data.drop(data[data['fare_amount'] >= 6.0].index, inplace=True)\n",
    "sns.boxplot(x=data['fare_amount'])"
   ]
  },
  {
   "cell_type": "code",
   "execution_count": null,
   "id": "e41fe434-8670-4b1e-b430-be7042c03edf",
   "metadata": {},
   "outputs": [],
   "source": []
  }
 ],
 "metadata": {
  "kernelspec": {
   "display_name": "Python 3 (ipykernel)",
   "language": "python",
   "name": "python3"
  },
  "language_info": {
   "codemirror_mode": {
    "name": "ipython",
    "version": 3
   },
   "file_extension": ".py",
   "mimetype": "text/x-python",
   "name": "python",
   "nbconvert_exporter": "python",
   "pygments_lexer": "ipython3",
   "version": "3.11.5"
  }
 },
 "nbformat": 4,
 "nbformat_minor": 5
}
